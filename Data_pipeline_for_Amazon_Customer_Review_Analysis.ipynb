{
  "nbformat": 4,
  "nbformat_minor": 0,
  "metadata": {
    "colab": {
      "provenance": [],
      "authorship_tag": "ABX9TyPQTSv0wP94C1iWCyZ+zMC/",
      "include_colab_link": true
    },
    "kernelspec": {
      "name": "python3",
      "display_name": "Python 3"
    },
    "language_info": {
      "name": "python"
    }
  },
  "cells": [
    {
      "cell_type": "markdown",
      "metadata": {
        "id": "view-in-github",
        "colab_type": "text"
      },
      "source": [
        "<a href=\"https://colab.research.google.com/github/Akshayabalaji23/Data-Pipeline-for-Amazon-Customer-Review-Analysis/blob/main/Data_pipeline_for_Amazon_Customer_Review_Analysis.ipynb\" target=\"_parent\"><img src=\"https://colab.research.google.com/assets/colab-badge.svg\" alt=\"Open In Colab\"/></a>"
      ]
    },
    {
      "cell_type": "code",
      "execution_count": null,
      "metadata": {
        "id": "04_axY6_HNKJ"
      },
      "outputs": [],
      "source": [
        "import pandas as pd\n",
        "import sqlalchemy\n",
        "from sqlalchemy import create_engine\n",
        "from datetime import datetime\n",
        "\n",
        "# ---------- Task 1: Data Extraction ----------\n",
        "file_path = \"aws_data - Sheet1 (3).csv\"  # Replace with actual path if needed\n",
        "df = pd.read_csv(file_path)\n",
        "\n",
        "# ---------- Task 2: Data Cleaning ----------\n",
        "df = df.drop_duplicates()\n",
        "df = df.dropna()\n",
        "\n",
        "# Correct data types\n",
        "df['review_date'] = pd.to_datetime(df['review_date'], errors='coerce')\n",
        "df['star_rating'] = df['star_rating'].astype(int)\n",
        "df['helpful_votes'] = df['helpful_votes'].astype(int)\n",
        "df['total_votes'] = df['total_votes'].astype(int)\n",
        "\n",
        "# Standardize fields\n",
        "df['marketplace'] = df['marketplace'].str.upper().str.strip()\n",
        "df['product_category'] = df['product_category'].str.title().str.strip()\n",
        "\n",
        "# ---------- Task 3: Data Transformation ----------\n",
        "# Normalize text fields\n",
        "df['review_headline'] = df['review_headline'].str.lower().str.strip()\n",
        "df['review_body'] = df['review_body'].str.lower().str.strip()\n",
        "\n",
        "# Create new feature: review_month\n",
        "df['review_month'] = df['review_date'].dt.to_period('M').astype(str)\n",
        "\n",
        "# ---------- Task 4: Load into Remote SQL Database ----------\n",
        "\n",
        "# Example using PostgreSQL (replace with your credentials)\n",
        "host = \"your-db-host\"\n",
        "port = \"5432\"\n",
        "database = \"your_database\"\n",
        "username = \"your_username\"\n",
        "password = \"your_password\"\n",
        "\n",
        "# Construct connection URL\n",
        "connection_url = f\"postgresql://{username}:{password}@{host}:{port}/{database}\"\n",
        "engine = create_engine(connection_url)\n",
        "\n",
        "# Table name\n",
        "table_name = \"amazon_reviews\"\n",
        "\n",
        "# Load to SQL\n",
        "df.to_sql(table_name, engine, if_exists='replace', index=False)\n",
        "\n",
        "print(f\"✅ Loaded {len(df)} records into '{table_name}' table successfully.\")\n"
      ]
    },
    {
      "cell_type": "code",
      "source": [
        "-- Task 5.1: Top 10 Products with the Most Reviews\n",
        "SELECT product_title, COUNT(*) AS review_count\n",
        "FROM amazon_reviews\n",
        "GROUP BY product_title\n",
        "ORDER BY review_count DESC\n",
        "LIMIT 10;\n",
        "\n",
        "-- Task 5.2: Average Review Ratings Per Month for Each Product\n",
        "SELECT product_title, review_month, AVG(star_rating) AS avg_rating\n",
        "FROM amazon_reviews\n",
        "GROUP BY product_title, review_month\n",
        "ORDER BY product_title, review_month;\n",
        "\n",
        "-- Task 5.3: Total Number of Votes Per Product Category\n",
        "SELECT product_category, SUM(total_votes) AS total_votes\n",
        "FROM amazon_reviews\n",
        "GROUP BY product_category\n",
        "ORDER BY total_votes DESC;\n",
        "\n",
        "-- Task 5.4: Products with the Word 'Awful' Occurring Most\n",
        "SELECT product_title, COUNT(*) AS awful_mentions\n",
        "FROM amazon_reviews\n",
        "WHERE review_body LIKE '%awful%'\n",
        "GROUP BY product_title\n",
        "ORDER BY awful_mentions DESC\n",
        "LIMIT 10;\n",
        "\n",
        "-- Task 5.5: Products with the Word 'Awesome' Occurring Most\n",
        "SELECT product_title, COUNT(*) AS awesome_mentions\n",
        "FROM amazon_reviews\n",
        "WHERE review_body LIKE '%awesome%'\n",
        "GROUP BY product_title\n",
        "ORDER BY awesome_mentions DESC\n",
        "LIMIT 10;\n",
        "\n",
        "-- Task 5.6: Most Controversial Reviews (High Votes, Low Helpful %)\n",
        "SELECT review_id, product_title, total_votes, helpful_votes,\n",
        "       ROUND(100.0 * helpful_votes / NULLIF(total_votes, 0), 2) AS helpful_percentage\n",
        "FROM amazon_reviews\n",
        "WHERE total_votes >= 10\n",
        "ORDER BY helpful_percentage ASC, total_votes DESC\n",
        "LIMIT 10;\n",
        "\n",
        "-- Task 5.7: Most Commonly Reviewed Product Per Year\n",
        "SELECT EXTRACT(YEAR FROM review_date) AS year, product_title, COUNT(*) AS review_count\n",
        "FROM amazon_reviews\n",
        "GROUP BY year, product_title\n",
        "QUALIFY ROW_NUMBER() OVER (PARTITION BY year ORDER BY COUNT(*) DESC) = 1;\n",
        "\n",
        "-- Task 5.8: Users Who Wrote the Most Reviews\n",
        "SELECT customer_id, COUNT(*) AS review_count\n",
        "FROM amazon_reviews\n",
        "GROUP BY customer_id\n",
        "ORDER BY review_count DESC\n",
        "LIMIT 10;\n"
      ],
      "metadata": {
        "id": "5pVORUTjHTj6"
      },
      "execution_count": null,
      "outputs": []
    },
    {
      "cell_type": "code",
      "source": [
        "CREATE INDEX idx_review_date ON amazon_reviews(review_date);\n",
        "CREATE INDEX idx_product_title ON amazon_reviews(product_title);\n",
        "CREATE INDEX idx_customer_id ON amazon_reviews(customer_id);\n"
      ],
      "metadata": {
        "id": "pkgTXDOyHZWN"
      },
      "execution_count": null,
      "outputs": []
    }
  ]
}